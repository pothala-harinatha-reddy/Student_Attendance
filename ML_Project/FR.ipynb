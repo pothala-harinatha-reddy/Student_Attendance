{
 "cells": [
  {
   "cell_type": "code",
   "execution_count": 1,
   "id": "e5c89c5a",
   "metadata": {},
   "outputs": [],
   "source": [
    "import cv2\n",
    "import numpy as np\n",
    "import sqlite3\n",
    "import csv\n",
    "\n",
    "# Connect to SQLite database\n",
    "conn = sqlite3.connect('faces.db')\n",
    "cursor = conn.cursor()\n",
    "\n",
    "# Load dataset from CSV with URLs\n",
    "def load_dataset_from_csv(csv_file):\n",
    "    dataset = {}\n",
    "    with open(csv_file, 'r') as file:\n",
    "        reader = csv.reader(file)\n",
    "        next(reader)  # Skip header\n",
    "        for row in reader:\n",
    "            face_id = int(row[0])\n",
    "            name = row[1]\n",
    "            usn = row[3]  # Assuming the USN is in the 4th column\n",
    "            dataset[face_id] = (name, usn)\n",
    "    return dataset\n",
    "\n",
    "# Load dataset from CSV\n",
    "dataset = load_dataset_from_csv('face_data.csv')\n",
    "\n",
    "# Load the group picture\n",
    "group_image_path = 'P21.png'\n",
    "group_image = cv2.imread(group_image_path)\n",
    "\n",
    "# Load cascade\n",
    "face_cascade = cv2.CascadeClassifier('haarcascade_frontalface_default.xml')\n",
    "\n",
    "# Convert group image to grayscale\n",
    "gray = cv2.cvtColor(group_image, cv2.COLOR_BGR2GRAY)\n",
    "\n",
    "# Detect faces\n",
    "faces = face_cascade.detectMultiScale(gray, 1.1, 4)\n",
    "\n",
    "# Display names and IDs from the dataset on the group image\n",
    "for face_id, (name, usn) in dataset.items():\n",
    "    cv2.putText(group_image, f\"Name: {name}, USN: {usn}\", (10, 30 * face_id), cv2.FONT_HERSHEY_SIMPLEX, 0.5, (255, 255, 255), 1)\n",
    "\n",
    "# Draw rectangles around detected faces in the group image\n",
    "for (x, y, w, h) in faces:\n",
    "    cv2.rectangle(group_image, (x, y), (x + w, y + h), (255, 0, 0), 2)\n",
    "\n",
    "# Show the group image with names, IDs, and detected faces\n",
    "cv2.imshow('Group Picture with Names, IDs, and Detected Faces', group_image)\n",
    "cv2.waitKey(0)\n",
    "cv2.destroyAllWindows()\n"
   ]
  },
  {
   "cell_type": "code",
   "execution_count": null,
   "id": "681f1765",
   "metadata": {},
   "outputs": [],
   "source": []
  }
 ],
 "metadata": {
  "kernelspec": {
   "display_name": "Python 3",
   "language": "python",
   "name": "python3"
  },
  "language_info": {
   "codemirror_mode": {
    "name": "ipython",
    "version": 3
   },
   "file_extension": ".py",
   "mimetype": "text/x-python",
   "name": "python",
   "nbconvert_exporter": "python",
   "pygments_lexer": "ipython3",
   "version": "3.8.8"
  }
 },
 "nbformat": 4,
 "nbformat_minor": 5
}
