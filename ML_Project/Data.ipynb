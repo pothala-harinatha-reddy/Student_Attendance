{
 "cells": [
  {
   "cell_type": "code",
   "execution_count": 2,
   "id": "3524cb00",
   "metadata": {},
   "outputs": [
    {
     "name": "stdout",
     "output_type": "stream",
     "text": [
      "USN column created in the faces table.\n"
     ]
    }
   ],
   "source": [
    "import sqlite3\n",
    "\n",
    "# Connect to SQLite database\n",
    "conn = sqlite3.connect('faces.db')\n",
    "cursor = conn.cursor()\n",
    "\n",
    "# Add the USN column to the faces table if it doesn't exist\n",
    "cursor.execute('''ALTER TABLE faces \n",
    "                  ADD COLUMN usn TEXT''')\n",
    "\n",
    "# Commit the changes\n",
    "conn.commit()\n",
    "\n",
    "# Close the connection\n",
    "conn.close()\n",
    "\n",
    "print(\"USN column created in the faces table.\")\n"
   ]
  },
  {
   "cell_type": "code",
   "execution_count": 2,
   "id": "2248ba5a",
   "metadata": {},
   "outputs": [
    {
     "name": "stdout",
     "output_type": "stream",
     "text": [
      "Existing data cleared. Ready to store future data.\n"
     ]
    }
   ],
   "source": [
    "import sqlite3\n",
    "\n",
    "# Connect to SQLite database\n",
    "conn = sqlite3.connect('faces.db')\n",
    "cursor = conn.cursor()\n",
    "\n",
    "# Clear existing data\n",
    "cursor.execute('DELETE FROM faces')\n",
    "\n",
    "# Store future data (replace this with your data insertion logic)\n",
    "# Example: cursor.execute('INSERT INTO faces (column1, column2, ...) VALUES (?, ?, ...)', (value1, value2, ...))\n",
    "\n",
    "# Commit changes and close the connection\n",
    "conn.commit()\n",
    "conn.close()\n",
    "\n",
    "print(\"Existing data cleared. Ready to store future data.\")\n"
   ]
  },
  {
   "cell_type": "code",
   "execution_count": 1,
   "id": "b5db1bd8",
   "metadata": {},
   "outputs": [
    {
     "name": "stdout",
     "output_type": "stream",
     "text": [
      "+------+----------+------------+\n",
      "|   id | name     | usn        |\n",
      "+======+==========+============+\n",
      "|    1 | Gopi     | 21BBTCS141 |\n",
      "+------+----------+------------+\n",
      "|    2 | Sagar    | 21BBTCS200 |\n",
      "+------+----------+------------+\n",
      "|    3 | Rami Pal | 21BBTCS182 |\n",
      "+------+----------+------------+\n",
      "|    4 | Gopi     | 21BBTCS141 |\n",
      "+------+----------+------------+\n",
      "|    5 | Sagar    | 21BBTCS200 |\n",
      "+------+----------+------------+\n",
      "|    6 | Rami Pal | 21BBTCS182 |\n",
      "+------+----------+------------+\n",
      "|    7 | Gopi     | 21BBTCS141 |\n",
      "+------+----------+------------+\n",
      "|    8 | Sagar    | 21BBTCS200 |\n",
      "+------+----------+------------+\n",
      "|    9 | Rami Pal | 21BBTCS182 |\n",
      "+------+----------+------------+\n"
     ]
    }
   ],
   "source": [
    "import sqlite3\n",
    "from tabulate import tabulate\n",
    "\n",
    "# Connect to SQLite database\n",
    "conn = sqlite3.connect('faces.db')\n",
    "cursor = conn.cursor()\n",
    "\n",
    "# Fetch all records from the faces table\n",
    "cursor.execute('SELECT * FROM faces')\n",
    "rows = cursor.fetchall()\n",
    "\n",
    "# Close the connection\n",
    "conn.close()\n",
    "\n",
    "# Display records in a tabular format\n",
    "if rows:\n",
    "    headers = [description[0] for description in cursor.description]\n",
    "    print(tabulate(rows, headers=headers, tablefmt='grid'))\n",
    "else:\n",
    "    print(\"No records found.\")"
   ]
  },
  {
   "cell_type": "code",
   "execution_count": 1,
   "id": "71217313",
   "metadata": {},
   "outputs": [
    {
     "name": "stdout",
     "output_type": "stream",
     "text": [
      "face_id column created in the faces table.\n"
     ]
    }
   ],
   "source": [
    "import sqlite3\n",
    "\n",
    "# Connect to SQLite database\n",
    "conn = sqlite3.connect('faces.db')\n",
    "cursor = conn.cursor()\n",
    "\n",
    "# Add the face_id column to the faces table if it doesn't exist\n",
    "cursor.execute('''ALTER TABLE faces \n",
    "                  ADD COLUMN face_id INTEGER''')\n",
    "\n",
    "# Commit the changes\n",
    "conn.commit()\n",
    "\n",
    "# Close the connection\n",
    "conn.close()\n",
    "\n",
    "print(\"face_id column created in the faces table.\")\n"
   ]
  },
  {
   "cell_type": "code",
   "execution_count": 9,
   "id": "2ce9fb49",
   "metadata": {},
   "outputs": [
    {
     "name": "stdout",
     "output_type": "stream",
     "text": [
      "face_id column removed from the faces table.\n"
     ]
    }
   ],
   "source": [
    "import sqlite3\n",
    "\n",
    "# Connect to SQLite database\n",
    "conn = sqlite3.connect('faces.db')\n",
    "cursor = conn.cursor()\n",
    "\n",
    "# Remove the face_id column from the faces table if it exists\n",
    "cursor.execute('''ALTER TABLE faces DROP COLUMN face_id''')\n",
    "\n",
    "# Commit the changes\n",
    "conn.commit()\n",
    "\n",
    "# Close the connection\n",
    "conn.close()\n",
    "\n",
    "print(\"face_id column removed from the faces table.\")\n"
   ]
  },
  {
   "cell_type": "code",
   "execution_count": null,
   "id": "dee4dde5",
   "metadata": {},
   "outputs": [],
   "source": []
  }
 ],
 "metadata": {
  "kernelspec": {
   "display_name": "Python 3",
   "language": "python",
   "name": "python3"
  },
  "language_info": {
   "codemirror_mode": {
    "name": "ipython",
    "version": 3
   },
   "file_extension": ".py",
   "mimetype": "text/x-python",
   "name": "python",
   "nbconvert_exporter": "python",
   "pygments_lexer": "ipython3",
   "version": "3.8.8"
  }
 },
 "nbformat": 4,
 "nbformat_minor": 5
}
